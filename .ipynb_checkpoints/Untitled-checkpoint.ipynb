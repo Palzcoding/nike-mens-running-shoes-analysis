{
 "cells": [
  {
   "cell_type": "code",
   "execution_count": 1,
   "id": "4ca6da6b-2e7f-41d8-b02f-ec83abf593ca",
   "metadata": {},
   "outputs": [],
   "source": [
    "import pandas as pd\n",
    "import matplotlib.pyplot as plt\n",
    "import seaborn as sns\n",
    "import os"
   ]
  },
  {
   "cell_type": "code",
   "execution_count": 35,
   "id": "560c6cbc-d953-43da-bd55-4c480fb731c8",
   "metadata": {},
   "outputs": [
    {
     "data": {
      "text/plain": [
       "198"
      ]
     },
     "execution_count": 35,
     "metadata": {},
     "output_type": "execute_result"
    }
   ],
   "source": [
    "file_path = \"nike_products.csv\"\n",
    "df = pd.read_csv(file_path)\n",
    "# df.head(5)\n",
    "len(df)"
   ]
  },
  {
   "cell_type": "code",
   "execution_count": 7,
   "id": "91ec4d68-bfd6-44ae-8522-fe7399686cb1",
   "metadata": {},
   "outputs": [],
   "source": [
    "# create image directory\n",
    "if not os.path.exists(\"images\"):\n",
    "    os.makedirs(\"images\")"
   ]
  },
  {
   "cell_type": "code",
   "execution_count": 11,
   "id": "736674d8-86da-4540-8c61-e0bec656295e",
   "metadata": {},
   "outputs": [],
   "source": [
    "df = df.dropna()  # dropna\n",
    "# make sure float\n",
    "df[\"Current Price\"] = df[\"Current Price\"].astype(float)\n",
    "df[\"Full Price\"] = df[\"Full Price\"].astype(float)"
   ]
  },
  {
   "cell_type": "code",
   "execution_count": 12,
   "id": "9b67931e-9e12-41dd-b679-4debecd46f1a",
   "metadata": {},
   "outputs": [
    {
     "data": {
      "text/html": [
       "<div>\n",
       "<style scoped>\n",
       "    .dataframe tbody tr th:only-of-type {\n",
       "        vertical-align: middle;\n",
       "    }\n",
       "\n",
       "    .dataframe tbody tr th {\n",
       "        vertical-align: top;\n",
       "    }\n",
       "\n",
       "    .dataframe thead th {\n",
       "        text-align: right;\n",
       "    }\n",
       "</style>\n",
       "<table border=\"1\" class=\"dataframe\">\n",
       "  <thead>\n",
       "    <tr style=\"text-align: right;\">\n",
       "      <th></th>\n",
       "      <th>Name</th>\n",
       "      <th>Brand</th>\n",
       "      <th>Current Price</th>\n",
       "      <th>Full Price</th>\n",
       "      <th>Category</th>\n",
       "      <th>Color</th>\n",
       "      <th>Size</th>\n",
       "      <th>SKU</th>\n",
       "      <th>GTIN</th>\n",
       "      <th>Discount</th>\n",
       "    </tr>\n",
       "  </thead>\n",
       "  <tbody>\n",
       "    <tr>\n",
       "      <th>0</th>\n",
       "      <td>AIR ZOOM PEGASUS 41 CM</td>\n",
       "      <td>Nike</td>\n",
       "      <td>180.0</td>\n",
       "      <td>180.0</td>\n",
       "      <td>FOOTWEAR</td>\n",
       "      <td>HQ1718-400</td>\n",
       "      <td>6</td>\n",
       "      <td>be64e260-b8f4-5937-bc3e-a5e813e91ce4</td>\n",
       "      <td>197859141425</td>\n",
       "      <td>0.0</td>\n",
       "    </tr>\n",
       "    <tr>\n",
       "      <th>1</th>\n",
       "      <td>AIR ZOOM PEGASUS 41 CM</td>\n",
       "      <td>Nike</td>\n",
       "      <td>180.0</td>\n",
       "      <td>180.0</td>\n",
       "      <td>FOOTWEAR</td>\n",
       "      <td>HQ1718-400</td>\n",
       "      <td>6.5</td>\n",
       "      <td>c014e4dd-13f9-534c-88e7-f620c3e79b1f</td>\n",
       "      <td>197859140657</td>\n",
       "      <td>0.0</td>\n",
       "    </tr>\n",
       "    <tr>\n",
       "      <th>2</th>\n",
       "      <td>AIR ZOOM PEGASUS 41 CM</td>\n",
       "      <td>Nike</td>\n",
       "      <td>180.0</td>\n",
       "      <td>180.0</td>\n",
       "      <td>FOOTWEAR</td>\n",
       "      <td>HQ1718-400</td>\n",
       "      <td>7</td>\n",
       "      <td>cbec1199-9748-59ea-aa0d-cc78f9651715</td>\n",
       "      <td>197859154340</td>\n",
       "      <td>0.0</td>\n",
       "    </tr>\n",
       "    <tr>\n",
       "      <th>3</th>\n",
       "      <td>AIR ZOOM PEGASUS 41 CM</td>\n",
       "      <td>Nike</td>\n",
       "      <td>180.0</td>\n",
       "      <td>180.0</td>\n",
       "      <td>FOOTWEAR</td>\n",
       "      <td>HQ1718-400</td>\n",
       "      <td>7.5</td>\n",
       "      <td>eca738a1-f9f3-5d77-b429-5efb22e3e6cf</td>\n",
       "      <td>197859152667</td>\n",
       "      <td>0.0</td>\n",
       "    </tr>\n",
       "    <tr>\n",
       "      <th>4</th>\n",
       "      <td>AIR ZOOM PEGASUS 41 CM</td>\n",
       "      <td>Nike</td>\n",
       "      <td>180.0</td>\n",
       "      <td>180.0</td>\n",
       "      <td>FOOTWEAR</td>\n",
       "      <td>HQ1718-400</td>\n",
       "      <td>8</td>\n",
       "      <td>83c6255f-8009-5ef9-a89f-432471283f40</td>\n",
       "      <td>197859123018</td>\n",
       "      <td>0.0</td>\n",
       "    </tr>\n",
       "  </tbody>\n",
       "</table>\n",
       "</div>"
      ],
      "text/plain": [
       "                     Name Brand  Current Price  Full Price  Category  \\\n",
       "0  AIR ZOOM PEGASUS 41 CM  Nike          180.0       180.0  FOOTWEAR   \n",
       "1  AIR ZOOM PEGASUS 41 CM  Nike          180.0       180.0  FOOTWEAR   \n",
       "2  AIR ZOOM PEGASUS 41 CM  Nike          180.0       180.0  FOOTWEAR   \n",
       "3  AIR ZOOM PEGASUS 41 CM  Nike          180.0       180.0  FOOTWEAR   \n",
       "4  AIR ZOOM PEGASUS 41 CM  Nike          180.0       180.0  FOOTWEAR   \n",
       "\n",
       "        Color Size                                   SKU          GTIN  \\\n",
       "0  HQ1718-400    6  be64e260-b8f4-5937-bc3e-a5e813e91ce4  197859141425   \n",
       "1  HQ1718-400  6.5  c014e4dd-13f9-534c-88e7-f620c3e79b1f  197859140657   \n",
       "2  HQ1718-400    7  cbec1199-9748-59ea-aa0d-cc78f9651715  197859154340   \n",
       "3  HQ1718-400  7.5  eca738a1-f9f3-5d77-b429-5efb22e3e6cf  197859152667   \n",
       "4  HQ1718-400    8  83c6255f-8009-5ef9-a89f-432471283f40  197859123018   \n",
       "\n",
       "   Discount  \n",
       "0       0.0  \n",
       "1       0.0  \n",
       "2       0.0  \n",
       "3       0.0  \n",
       "4       0.0  "
      ]
     },
     "execution_count": 12,
     "metadata": {},
     "output_type": "execute_result"
    }
   ],
   "source": [
    "# new column discount\n",
    "# unit of discount: %\n",
    "df[\"Discount\"] = (df[\"Full Price\"] - df[\"Current Price\"]) / df[\"Full Price\"] * 100\n",
    "df[\"Discount\"] = df[\"Discount\"].fillna(0)\n",
    "df.head()"
   ]
  },
  {
   "cell_type": "code",
   "execution_count": 27,
   "id": "deb37178-b3e6-440d-a274-45b5e464ab46",
   "metadata": {},
   "outputs": [
    {
     "name": "stdout",
     "output_type": "stream",
     "text": [
      "Most popular running shoes: \n",
      "AIR ZOOM PEGASUS 41 CM, NIKE REACTX INFINITY RUN 4, AIR ZOOM ALPHAFLY NEXT% 3 PRM\n"
     ]
    }
   ],
   "source": [
    "top_products = df[\"Name\"].value_counts().head(10)\n",
    "print(\"Most popular running shoes: \\n\" + \"AIR ZOOM PEGASUS 41 CM, NIKE REACTX INFINITY RUN 4, AIR ZOOM ALPHAFLY NEXT% 3 PRM\" )"
   ]
  },
  {
   "cell_type": "code",
   "execution_count": 20,
   "id": "c6f4ee97-5c32-4eff-a917-dd9888dec642",
   "metadata": {},
   "outputs": [],
   "source": [
    "plt.figure(figsize=(12, 6))\n",
    "sns.barplot(x=top_products.values, y=top_products.index, hue=top_products.index, dodge=False, palette=\"viridis\", legend=False)\n",
    "plt.xlabel(\"Count\")\n",
    "plt.ylabel(\"Product Name\")\n",
    "plt.title(\"Top 10 Most Frequent Nike Products\")\n",
    "plt.savefig(\"images/top_products.png\")\n",
    "plt.close()\n",
    "print(\"top_products plot successfully saved!\")"
   ]
  },
  {
   "cell_type": "code",
   "execution_count": 29,
   "id": "cc57de51-903e-4a19-bd5b-5fb6f93a4c76",
   "metadata": {},
   "outputs": [
    {
     "data": {
      "text/plain": [
       "Name\n",
       "NIKE REACTX INFINITY RUN 4        35.018750\n",
       "AIR ZOOM STRUCTURE 25 WIDE        30.037500\n",
       "M NIKE PROMINA                    29.191667\n",
       "AIR ZOOM ALPHAFLY NEXT% 3 PRM      0.000000\n",
       "AIR ZOOM PEGASUS 41 CM             0.000000\n",
       "AIR ZOOM VICTORY 2 ALL             0.000000\n",
       "Mlb NK Dark Gray Club Unstr Ad     0.000000\n",
       "NIKE FREE RN 2018                  0.000000\n",
       "NIKE QUEST 6                       0.000000\n",
       "NIKE REACTX INFINITY RUN 4 W       0.000000\n",
       "Name: Discount, dtype: float64"
      ]
     },
     "execution_count": 29,
     "metadata": {},
     "output_type": "execute_result"
    }
   ],
   "source": [
    "# average discount of different shoes\n",
    "avg_discount = df.groupby(\"Name\")[\"Discount\"].mean().sort_values(ascending=False).head(10)\n",
    "avg_discount"
   ]
  },
  {
   "cell_type": "code",
   "execution_count": 30,
   "id": "fbf0ffe7-2cbe-4c2c-a84a-e24d78ba75c4",
   "metadata": {},
   "outputs": [],
   "source": [
    "# plot avg discount\n",
    "plt.figure(figsize=(12, 6))\n",
    "sns.barplot(x=avg_discount.values, y=avg_discount.index, hue=top_products.index, dodge=False, palette=\"viridis\", legend=False)\n",
    "plt.xlabel(\"Average Discount (%)\")\n",
    "plt.ylabel(\"Product Name\")\n",
    "plt.title(\"Top 10 Products with Highest Average Discount\")\n",
    "plt.savefig(\"images/top_discounts.png\")\n",
    "plt.close()\n",
    "print(\"avg_discount plot successfully saved!\")"
   ]
  },
  {
   "cell_type": "code",
   "execution_count": 31,
   "id": "0558a2cf-441e-4028-973b-389b9d5b4993",
   "metadata": {},
   "outputs": [
    {
     "name": "stdout",
     "output_type": "stream",
     "text": [
      "price_distribution plot successfully saved!\n"
     ]
    }
   ],
   "source": [
    "# plot price_distribution\n",
    "plt.figure(figsize=(10, 5))\n",
    "sns.histplot(df[\"Current Price\"], bins=20, kde=True, color=\"blue\")\n",
    "plt.xlabel(\"Price ($)\")\n",
    "plt.ylabel(\"Count\")\n",
    "plt.title(\"Distribution of Product Prices\")\n",
    "plt.savefig(\"images/price_distribution.png\")\n",
    "plt.close()\n",
    "print(\"price_distribution plot successfully saved!\")"
   ]
  },
  {
   "cell_type": "code",
   "execution_count": 38,
   "id": "d8c2b55d-696b-4596-a022-ccf6e5b125b0",
   "metadata": {},
   "outputs": [],
   "source": [
    "eadme_content = \"\"\"\n",
    "# Nike Product Data Analysis\n",
    "\n",
    "This repository contains an analysis of Nike product pricing, discounts, and availability. The dataset was obtained through web scraping and includes information on various shoe models, sizes, and pricing.\n",
    "\n",
    "## Key Findings\n",
    "\n",
    "1. **Most Frequent Products**  \n",
    "   - The most common Nike products in the dataset are displayed in the top_products.png.\n",
    "\n",
    "2. **Highest Discounts**  \n",
    "   - Some models receive significant discounts, as visualized in top_discounts.png.\n",
    "\n",
    "3. **Price Distribution**  \n",
    "   - Nike products are spread across different price ranges. See price_distribution.png.\n",
    "\n",
    "4. **Discount Distribution**  \n",
    "   - Discounts vary across products, with some items heavily discounted while others remain at full price.\n",
    "\n",
    "## Visualizations\n",
    "\n",
    "- **Top 10 Most Frequent Nike Products**\n",
    "  ![Top Products](images/top_products.png)\n",
    "\n",
    "- **Top 10 Products with Highest Average Discount**\n",
    "  ![Top Discounts](images/top_discounts.png)\n",
    "\n",
    "- **Product Price Distribution**\n",
    "  ![Price Distribution](images/price_distribution.png)\n",
    "\n",
    "- **Product Discount Distribution**\n",
    "  ![Discount Distribution](images/discount_distribution.png)\n",
    "\"\"\""
   ]
  },
  {
   "cell_type": "code",
   "execution_count": null,
   "id": "6d32dce6-afe8-46e5-9c17-9d6f44783954",
   "metadata": {},
   "outputs": [],
   "source": []
  }
 ],
 "metadata": {
  "kernelspec": {
   "display_name": "Python 3 (ipykernel)",
   "language": "python",
   "name": "python3"
  },
  "language_info": {
   "codemirror_mode": {
    "name": "ipython",
    "version": 3
   },
   "file_extension": ".py",
   "mimetype": "text/x-python",
   "name": "python",
   "nbconvert_exporter": "python",
   "pygments_lexer": "ipython3",
   "version": "3.12.4"
  }
 },
 "nbformat": 4,
 "nbformat_minor": 5
}
